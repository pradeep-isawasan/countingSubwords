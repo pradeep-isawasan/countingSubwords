{
 "cells": [
  {
   "cell_type": "markdown",
   "metadata": {},
   "source": [
    "# Example\n",
    "Let say we have 2 a's and 2 b's. Below are the all the possible words that can be generated."
   ]
  },
  {
   "cell_type": "code",
   "execution_count": 6,
   "metadata": {},
   "outputs": [
    {
     "name": "stdout",
     "output_type": "stream",
     "text": [
      "Combination of 2 a and 2 b = \n",
      "['abab', 'baba', 'bbaa', 'abba', 'aabb', 'baab']\n"
     ]
    }
   ],
   "source": [
    "import itertools\n",
    "s = 'aabb'\n",
    "y = []\n",
    "t = list(itertools.permutations(s,len(s)))\n",
    "for k in range(0,len(t)):\n",
    "    y.append(''.join(t[k]))\n",
    " \n",
    "x = list(set(y))\n",
    "print ('Combination of 2 a and 2 b = ')\n",
    "print(x)"
   ]
  },
  {
   "cell_type": "markdown",
   "metadata": {},
   "source": [
    "Then we count the number of scattered subword in each of the combinations"
   ]
  },
  {
   "cell_type": "code",
   "execution_count": 8,
   "metadata": {},
   "outputs": [
    {
     "name": "stdout",
     "output_type": "stream",
     "text": [
      "Scattered subword = \n",
      "[0, 1, 2, 2, 3, 4]\n"
     ]
    }
   ],
   "source": [
    "subword_count = []\n",
    "for i in x:\n",
    "    results = 0\n",
    "    for j in range(len(i)):\n",
    "        if i[j] == 'a':\n",
    "            results = results + i.count('b', j, len(i))        \n",
    "    subword_count.append(results)\n",
    "           \n",
    "subword_count.sort()\n",
    "print('Scattered subword = ')\n",
    "print (subword_count)"
   ]
  },
  {
   "cell_type": "markdown",
   "metadata": {},
   "source": [
    "Then we plot against the frequency of occurence of the subwords in each string."
   ]
  },
  {
   "cell_type": "code",
   "execution_count": 12,
   "metadata": {},
   "outputs": [
    {
     "name": "stderr",
     "output_type": "stream",
     "text": [
      "C:\\Users\\lalitha\\Anaconda2\\lib\\site-packages\\matplotlib\\axes\\_axes.py:6462: UserWarning: The 'normed' kwarg is deprecated, and has been replaced by the 'density' kwarg.\n",
      "  warnings.warn(\"The 'normed' kwarg is deprecated, and has been \"\n"
     ]
    },
    {
     "data": {
      "text/plain": [
       "[Text(0,0.5,'Frequency'), Text(0.5,0,'Scattered subword')]"
      ]
     },
     "execution_count": 12,
     "metadata": {},
     "output_type": "execute_result"
    },
    {
     "data": {
      "image/png": "[encoded data removed]",
      "text/plain": [
       "<Figure size 324x216 with 1 Axes>"
      ]
     },
     "metadata": {},
     "output_type": "display_data"
    }
   ],
   "source": [
    "import seaborn as sns\n",
    "sns.set(color_codes=True)\n",
    "sns.set(rc={'figure.figsize':(4.5,3)})\n",
    "ax = sns.distplot(subword_count, bins=100,\n",
    "                  kde=False,\n",
    "                  color='skyblue',\n",
    "                  hist_kws={\"linewidth\": 15,'alpha':1})\n",
    "ax.set(xlabel='Scattered subword', ylabel='Frequency')"
   ]
  },
  {
   "cell_type": "markdown",
   "metadata": {},
   "source": [
    "Now lets increase the number of a's and b's. Lets say 5 a's and 5 b's"
   ]
  },
  {
   "cell_type": "code",
   "execution_count": 14,
   "metadata": {},
   "outputs": [
    {
     "name": "stderr",
     "output_type": "stream",
     "text": [
      "C:\\Users\\lalitha\\Anaconda2\\lib\\site-packages\\matplotlib\\axes\\_axes.py:6462: UserWarning: The 'normed' kwarg is deprecated, and has been replaced by the 'density' kwarg.\n",
      "  warnings.warn(\"The 'normed' kwarg is deprecated, and has been \"\n"
     ]
    },
    {
     "data": {
      "text/plain": [
       "[Text(0,0.5,'Frequency'), Text(0.5,0,'Scattered subword')]"
      ]
     },
     "execution_count": 14,
     "metadata": {},
     "output_type": "execute_result"
    },
    {
     "data": {
      "image/png": "[encoded data removed]",
      "text/plain": [
       "<Figure size 324x216 with 1 Axes>"
      ]
     },
     "metadata": {},
     "output_type": "display_data"
    }
   ],
   "source": [
    "import seaborn as sns\n",
    "sns.set(color_codes=True)\n",
    "sns.set(rc={'figure.figsize':(4.5,3)})\n",
    "import numpy as np\n",
    "import itertools\n",
    "s = 'aaaaabbbbb'\n",
    "y = []\n",
    "t = list(itertools.permutations(s,len(s)))\n",
    "for k in range(0,len(t)):\n",
    "    y.append(''.join(t[k]))\n",
    " \n",
    "x = list(set(y))\n",
    "subword_count = []\n",
    "for i in x:\n",
    "    results = 0\n",
    "    for j in range(len(i)):\n",
    "        if i[j] == 'a':\n",
    "            results = results + i.count('b', j, len(i))        \n",
    "    subword_count.append(results)\n",
    "           \n",
    "subword_count.sort()\n",
    "\n",
    "ax = sns.distplot(subword_count, bins=100,\n",
    "                  kde=False,\n",
    "                  color='skyblue',\n",
    "                  hist_kws={\"linewidth\": 15,'alpha':1})\n",
    "ax.set(xlabel='Scattered subword', ylabel='Frequency')"
   ]
  },
  {
   "cell_type": "markdown",
   "metadata": {},
   "source": [
    "The distribution of scattered subword in the combinations of equal number of a's and b's is normally distributed when n(a), n(b) -> $$\\infty$$"
   ]
  }
 ],
 "metadata": {
  "kernelspec": {
   "display_name": "Python 2",
   "language": "python",
   "name": "python2"
  },
  "language_info": {
   "codemirror_mode": {
    "name": "ipython",
    "version": 2
   },
   "file_extension": ".py",
   "mimetype": "text/x-python",
   "name": "python",
   "nbconvert_exporter": "python",
   "pygments_lexer": "ipython2",
   "version": "2.7.15"
  }
 },
 "nbformat": 4,
 "nbformat_minor": 2
}
